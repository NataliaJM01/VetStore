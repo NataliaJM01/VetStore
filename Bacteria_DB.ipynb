{
  "nbformat": 4,
  "nbformat_minor": 0,
  "metadata": {
    "colab": {
      "provenance": [],
      "include_colab_link": true
    },
    "kernelspec": {
      "name": "python3",
      "display_name": "Python 3"
    },
    "language_info": {
      "name": "python"
    }
  },
  "cells": [
    {
      "cell_type": "markdown",
      "metadata": {
        "id": "view-in-github",
        "colab_type": "text"
      },
      "source": [
        "<a href=\"https://colab.research.google.com/github/NataliaJM01/VetStore/blob/master/Bacteria_DB.ipynb\" target=\"_parent\"><img src=\"https://colab.research.google.com/assets/colab-badge.svg\" alt=\"Open In Colab\"/></a>"
      ]
    },
    {
      "cell_type": "code",
      "execution_count": null,
      "metadata": {
        "id": "M0uC_inoMnoI"
      },
      "outputs": [],
      "source": [
        "import pandas as pd\n",
        "import numpy as np\n",
        "from datetime import datetime, timedelta"
      ]
    },
    {
      "cell_type": "code",
      "source": [
        "bacteria_data = {\n",
        "    'bacteria_id': [1, 2, 3, 4, 5],\n",
        "    'orden': ['Lactobacillales', 'Enterobacterales', 'Pseudomonadales', 'Bacillales', 'Actinomycetales'],\n",
        "    'familia': ['Lactobacillaceae', 'Enterobacteriaceae', 'Pseudomonadaceae', 'Bacillaceae', 'Mycobacteriaceae'],\n",
        "    'genero': ['Lactobacillus', 'Escherichia', 'Pseudomonas', 'Bacillus', 'Mycobacterium'],\n",
        "    'especie': ['Lactobacillus acidophilus', 'Escherichia coli', 'Pseudomonas aeruginosa', 'Bacillus subtilis', 'Mycobacterium tuberculosis'],\n",
        "    'cepa_inicial': [1.2, 2.3, 3.4, 4.5, 5.6],\n",
        "    'cepa_final': [1.8, 2.9, 3.7, 4.8, 6.0],\n",
        "    'fecha_analisis': [datetime.now().isoformat() for _ in range(5)],\n",
        "    'medio_cultivo':  [1, 2, 3, 4, 5]\n",
        "}\n",
        "\n",
        "# Create a DataFrame with the bacteria data\n",
        "clasificacion = pd.DataFrame(bacteria_data)\n",
        "\n",
        "# Display the DataFrame\n",
        "print(clasificacion)"
      ],
      "metadata": {
        "id": "kMrOpZYHNGl3",
        "colab": {
          "base_uri": "https://localhost:8080/"
        },
        "outputId": "0a000165-ac9b-44f4-ac47-f302d18ff1e4"
      },
      "execution_count": null,
      "outputs": [
        {
          "output_type": "stream",
          "name": "stdout",
          "text": [
            "   bacteria_id             orden             familia         genero  \\\n",
            "0            1   Lactobacillales    Lactobacillaceae  Lactobacillus   \n",
            "1            2  Enterobacterales  Enterobacteriaceae    Escherichia   \n",
            "2            3   Pseudomonadales    Pseudomonadaceae    Pseudomonas   \n",
            "3            4        Bacillales         Bacillaceae       Bacillus   \n",
            "4            5   Actinomycetales    Mycobacteriaceae  Mycobacterium   \n",
            "\n",
            "                      especie  cepa_inicial  cepa_final  \\\n",
            "0   Lactobacillus acidophilus           1.2         1.8   \n",
            "1            Escherichia coli           2.3         2.9   \n",
            "2      Pseudomonas aeruginosa           3.4         3.7   \n",
            "3           Bacillus subtilis           4.5         4.8   \n",
            "4  Mycobacterium tuberculosis           5.6         6.0   \n",
            "\n",
            "               fecha_analisis  medio_cultivo  \n",
            "0  2025-01-31T12:23:14.129302              1  \n",
            "1  2025-01-31T12:23:14.129310              2  \n",
            "2  2025-01-31T12:23:14.129312              3  \n",
            "3  2025-01-31T12:23:14.129314              4  \n",
            "4  2025-01-31T12:23:14.129316              5  \n"
          ]
        }
      ]
    },
    {
      "cell_type": "code",
      "source": [
        "# Create specific 'Medios de cultivo' data\n",
        "medios_cultivo_data = {\n",
        "    'mdc_id': [1, 2, 3, 4, 5],\n",
        "    'mdc': ['Agar', 'Caldo', 'Gelatina', 'Agar sangre', 'Caldo tioglicolato'],\n",
        "    'suplemento': ['Suplemento A', 'Suplemento B', 'Suplemento C', 'Suplemento D', 'Suplemento E'],\n",
        "    'tiempo_analisis': [24, 48, 72, 96, 120],  # in hours\n",
        "    'fecha_exp': [(datetime.now() + timedelta(days=i*30)).isoformat() for i in range(5)]\n",
        "}\n",
        "\n",
        "# Create a DataFrame with the 'Medios de cultivo' data\n",
        "medios_cultivo_df = pd.DataFrame(medios_cultivo_data)\n",
        "\n",
        "# Display the DataFrame\n",
        "print(medios_cultivo_df)"
      ],
      "metadata": {
        "id": "PWav4-KaNMsw",
        "colab": {
          "base_uri": "https://localhost:8080/"
        },
        "outputId": "61065340-2355-4044-9f36-80a0e378a9da"
      },
      "execution_count": null,
      "outputs": [
        {
          "output_type": "stream",
          "name": "stdout",
          "text": [
            "   mdc_id                 mdc    suplemento  tiempo_analisis  \\\n",
            "0       1                Agar  Suplemento A               24   \n",
            "1       2               Caldo  Suplemento B               48   \n",
            "2       3            Gelatina  Suplemento C               72   \n",
            "3       4         Agar sangre  Suplemento D               96   \n",
            "4       5  Caldo tioglicolato  Suplemento E              120   \n",
            "\n",
            "                    fecha_exp  \n",
            "0  2025-01-31T12:23:16.366769  \n",
            "1  2025-03-02T12:23:16.366785  \n",
            "2  2025-04-01T12:23:16.366791  \n",
            "3  2025-05-01T12:23:16.366795  \n",
            "4  2025-05-31T12:23:16.366799  \n"
          ]
        }
      ]
    },
    {
      "cell_type": "code",
      "source": [],
      "metadata": {
        "id": "BjGeEqjjTwNX"
      },
      "execution_count": null,
      "outputs": []
    }
  ]
}